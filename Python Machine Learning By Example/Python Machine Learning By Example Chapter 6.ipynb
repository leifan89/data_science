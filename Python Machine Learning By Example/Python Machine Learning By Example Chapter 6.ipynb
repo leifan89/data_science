{
 "cells": [
  {
   "cell_type": "code",
   "execution_count": 1,
   "metadata": {},
   "outputs": [],
   "source": [
    "import matplotlib.pyplot as plt\n",
    "import numpy as np"
   ]
  },
  {
   "cell_type": "code",
   "execution_count": 2,
   "metadata": {},
   "outputs": [],
   "source": [
    "pos_fraction = np.linspace(0.00, 1.00, 1000)"
   ]
  },
  {
   "cell_type": "code",
   "execution_count": 3,
   "metadata": {},
   "outputs": [
    {
     "data": {
      "image/png": "[encoded data removed]",
      "text/plain": [
       "<Figure size 432x288 with 1 Axes>"
      ]
     },
     "metadata": {
      "needs_background": "light"
     },
     "output_type": "display_data"
    }
   ],
   "source": [
    "gini = 1 - pos_fraction**2 - (1 - pos_fraction)**2\n",
    "plt.plot(pos_fraction, gini)\n",
    "plt.ylim(0, 1)\n",
    "plt.xlabel('Positive fraction')\n",
    "plt.ylabel('Gini impurity')\n",
    "plt.show()"
   ]
  },
  {
   "cell_type": "code",
   "execution_count": 4,
   "metadata": {},
   "outputs": [],
   "source": [
    "def gini_impurity(labels):\n",
    "    if not labels:\n",
    "        return 0\n",
    "    counts = np.unique(labels, return_counts=True)[1]\n",
    "    fractions = counts / float(len(labels))\n",
    "    return 1 - np.sum(fractions**2)"
   ]
  },
  {
   "cell_type": "code",
   "execution_count": 5,
   "metadata": {},
   "outputs": [
    {
     "name": "stdout",
     "output_type": "stream",
     "text": [
      "0.4800\n",
      "0.5000\n",
      "0.0000\n"
     ]
    }
   ],
   "source": [
    "print('{0:.4f}'.format(gini_impurity([1, 1, 0, 1, 0])))\n",
    "print('{0:.4f}'.format(gini_impurity([1, 1, 0, 1, 0, 0])))\n",
    "print('{0:.4f}'.format(gini_impurity([1, 1, 1, 1])))"
   ]
  },
  {
   "cell_type": "code",
   "execution_count": 11,
   "metadata": {},
   "outputs": [
    {
     "name": "stderr",
     "output_type": "stream",
     "text": [
      "<ipython-input-11-6f1a3b3f2870>:2: RuntimeWarning: divide by zero encountered in log2\n",
      "  ent = - (pos_fraction * np.log2(pos_fraction) + (1 - pos_fraction) * np.log2(1 - pos_fraction))\n",
      "<ipython-input-11-6f1a3b3f2870>:2: RuntimeWarning: invalid value encountered in multiply\n",
      "  ent = - (pos_fraction * np.log2(pos_fraction) + (1 - pos_fraction) * np.log2(1 - pos_fraction))\n"
     ]
    },
    {
     "data": {
      "image/png": "[encoded data removed]",
      "text/plain": [
       "<Figure size 432x288 with 1 Axes>"
      ]
     },
     "metadata": {
      "needs_background": "light"
     },
     "output_type": "display_data"
    }
   ],
   "source": [
    "pos_fraction = np.linspace(0.00, 1.00, 1000)\n",
    "ent = - (pos_fraction * np.log2(pos_fraction) + (1 - pos_fraction) * np.log2(1 - pos_fraction))\n",
    "plt.plot(pos_fraction, ent)\n",
    "plt.xlabel('Positive fraction')\n",
    "plt.ylabel('Entropy')\n",
    "plt.ylim(0, 1)\n",
    "plt.show()"
   ]
  },
  {
   "cell_type": "code",
   "execution_count": 12,
   "metadata": {},
   "outputs": [],
   "source": [
    "def entropy(labels):\n",
    "    if not labels:\n",
    "        return 0\n",
    "    counts = np.unique(labels, return_counts=True)[1]\n",
    "    fractions = counts / float(len(labels))\n",
    "    return - np.sum(fractions * np.log2(fractions))"
   ]
  },
  {
   "cell_type": "code",
   "execution_count": 13,
   "metadata": {},
   "outputs": [
    {
     "name": "stdout",
     "output_type": "stream",
     "text": [
      "0.9710\n",
      "1.0000\n",
      "-0.0000\n"
     ]
    }
   ],
   "source": [
    "print('{0:.4f}'.format(entropy([1, 1, 0, 1, 0])))\n",
    "print('{0:.4f}'.format(entropy([1, 1, 0, 1, 0, 0])))\n",
    "print('{0:.4f}'.format(entropy([1, 1, 1, 1])))"
   ]
  },
  {
   "cell_type": "code",
   "execution_count": 16,
   "metadata": {},
   "outputs": [],
   "source": [
    "criterion_function = {\n",
    "    'gini': gini_impurity,\n",
    "    'entropy': entropy\n",
    "}\n",
    "\n",
    "def weighted_impurity(groups, criterion='gini'):\n",
    "    total = sum(len(group) for group in groups)\n",
    "    weighted_sum = 0.0\n",
    "    for group in groups:\n",
    "        weighted_sum += len(group) / float(total) * criterion_function[criterion](group)\n",
    "    return weighted_sum"
   ]
  },
  {
   "cell_type": "code",
   "execution_count": 17,
   "metadata": {},
   "outputs": [
    {
     "name": "stdout",
     "output_type": "stream",
     "text": [
      "Entrypy of #1 split: 0.9510\n",
      "Entrypy of #2 split: 0.5510\n"
     ]
    }
   ],
   "source": [
    "children_1 = [[1, 0, 1], [0, 1]]\n",
    "children_2 = [[1, 1], [0, 0, 1]]\n",
    "print('Entrypy of #1 split: {0:.4f}'.format(weighted_impurity(children_1, 'entropy')))\n",
    "print('Entrypy of #2 split: {0:.4f}'.format(weighted_impurity(children_2, 'entropy')))"
   ]
  },
  {
   "cell_type": "code",
   "execution_count": 18,
   "metadata": {},
   "outputs": [],
   "source": [
    "def gini_impurity_np(labels):\n",
    "    if labels.size == 0:\n",
    "        return 0\n",
    "    counts = np.unique(labels, return_counts=True)[1]\n",
    "    fractions = counts / float(len(labels))\n",
    "    return 1 - np.sum(fractions**2)\n",
    "\n",
    "def entropy_np(labels):\n",
    "    if labels.size == 0:\n",
    "        return 0\n",
    "    counts = np.unique(labels, return_counts=True)[1]\n",
    "    fractions = counts / float(len(labels))\n",
    "    return - np.sum(fractions * np.log2(fractions))"
   ]
  },
  {
   "cell_type": "code",
   "execution_count": 19,
   "metadata": {},
   "outputs": [],
   "source": [
    "criterion_function_np = {\n",
    "    'gini': gini_impurity_np,\n",
    "    'entropy': entropy_np\n",
    "}\n",
    "\n",
    "def weighted_impurity(groups, criterion='gini'):\n",
    "    total = sum(len(group) for group in groups)\n",
    "    weighted_sum = 0.0\n",
    "    for group in groups:\n",
    "        weighted_sum += len(group) / float(total) * criterion_function_np[criterion](group)\n",
    "    return weighted_sum"
   ]
  },
  {
   "cell_type": "code",
   "execution_count": 20,
   "metadata": {},
   "outputs": [],
   "source": [
    "def split_node(X, y, index, value):\n",
    "    x_index = X[:, index]\n",
    "    if X[0, index].dtype.kind in ['i', 'f']:\n",
    "        mask = x_index >= value\n",
    "    else:\n",
    "        mask = x_index == value\n",
    "    left = [X[~mask, :], y[~mask]]\n",
    "    right = [X[mask, :], y[mask]]\n",
    "    return left, right"
   ]
  },
  {
   "cell_type": "code",
   "execution_count": 21,
   "metadata": {},
   "outputs": [],
   "source": [
    "def get_best_split(X, y, criterion):\n",
    "    best_index, best_value, best_score, children = None, None, 1, None\n",
    "    for index in range(len(X[0])):\n",
    "        for value in np.sort(np.unique(X[:, index])):\n",
    "            groups = split_node(X, y, index, value)\n",
    "            impurity = weighted_impurity([groups[0][1], groups[1][1]], criterion)\n",
    "            if impurity < best_score:\n",
    "                best_index, best_value, best_score, children = index, value, impurity, groups\n",
    "    return {\n",
    "        'index': best_index,\n",
    "        'value': best_value,\n",
    "        'children': children\n",
    "    }"
   ]
  },
  {
   "cell_type": "code",
   "execution_count": 22,
   "metadata": {},
   "outputs": [],
   "source": [
    "def get_leaf(labels):\n",
    "    return np.bincount(labels).argmax()"
   ]
  },
  {
   "cell_type": "code",
   "execution_count": 23,
   "metadata": {},
   "outputs": [],
   "source": [
    "def split(node, max_depth, min_size, depth, criterion):\n",
    "    left, right = node['children']\n",
    "    del (node['children'])\n",
    "    \n",
    "    # If one of the children is empty, this is a leaf node of the other child\n",
    "    if left[1].size == 0:\n",
    "        node['right'] = get_leaf(right[1])\n",
    "        return\n",
    "    if right[1].size == 0:\n",
    "        node['left'] = get_leaf(left[1])\n",
    "        return\n",
    "    \n",
    "    # Should not exceed max depth to prevent overfitting\n",
    "    if depth >= max_depth:\n",
    "        node['left'], node['right'] = get_leaf(left[1]), get_leaf(right[1])\n",
    "        return\n",
    "    \n",
    "    # Should have enough samples to keep splitting, we only split left node\n",
    "    if left[1].size <= min_size:\n",
    "        node['left'] = get_leaf(left[1])\n",
    "    else:\n",
    "        result = get_best_split(left[0], left[1], criterion)\n",
    "        result_left, result_right = result['children']\n",
    "        if result_left[1].size == 0:\n",
    "            node['left'] = get_leaf(result_right[1])\n",
    "        elif result_right[1].size == 0:\n",
    "            node['left'] = get_leaf(result_left[1])\n",
    "        else:  # recurse\n",
    "            node['left'] = result\n",
    "            split(node['left'], max_depth, min_size, depth + 1, criterion)\n",
    "    \n",
    "    # Right child has enough samples?\n",
    "    if right[1].size <= min_size:\n",
    "        node['right'] = get_leaf(right[1])\n",
    "    else:\n",
    "        result = get_best_split(right[0], right[1], criterion)\n",
    "        result_left, result_right = result['children']\n",
    "        if result_left[1].size == 0:\n",
    "            node['right'] = get_leaf(result_right[1])\n",
    "        elif result_right[1].size == 0:\n",
    "            node['right'] = get_leaf(result_left[1])\n",
    "        else:\n",
    "            node['right'] = result\n",
    "            split(node['right'], max_depth, min_size, depth + 1, criterion)"
   ]
  },
  {
   "cell_type": "code",
   "execution_count": 24,
   "metadata": {},
   "outputs": [],
   "source": [
    "def train_tree(X_train, y_train, max_depth, min_size, criterion='gini'):\n",
    "    X = np.array(X_train)\n",
    "    y = np.array(y_train)\n",
    "    root = get_best_split(X, y, criterion)\n",
    "    split(root, max_depth, min_size, 1, criterion)\n",
    "    return root"
   ]
  },
  {
   "cell_type": "code",
   "execution_count": 25,
   "metadata": {},
   "outputs": [],
   "source": [
    "X_train = [['tech', 'professional'],\n",
    "           ['fashion', 'student'],\n",
    "           ['fashion', 'professional'],\n",
    "           ['sports', 'student'],\n",
    "           ['tech', 'student'],\n",
    "           ['tech', 'retired'],\n",
    "           ['sports', 'professional']]\n",
    "y_train = [1, 0, 0, 0, 1, 0, 1]\n",
    "tree = train_tree(X_train, y_train, 2, 2)"
   ]
  },
  {
   "cell_type": "code",
   "execution_count": 26,
   "metadata": {},
   "outputs": [],
   "source": [
    "CONDITION = {\n",
    "    'numerical': {\n",
    "        'yes': '>=',\n",
    "        'no': '<'\n",
    "    },\n",
    "    'categorical': {\n",
    "        'yes': 'is',\n",
    "        'no': 'is not'\n",
    "    }\n",
    "}\n",
    "\n",
    "def visualize_tree(node, depth=0):\n",
    "    if isinstance(node, dict):\n",
    "        if node['value'].dtype.kind in ['i', 'f']:\n",
    "            condition = CONDITION['numerical']\n",
    "        else:\n",
    "            condition = CONDITION['categorical']\n",
    "        print('{}|- X{} {} {}'.format(depth * '   ', node['index'] + 1, condition['no'], node['value']))\n",
    "        if 'left' in node:\n",
    "            visualize_tree(node['left'], depth + 1)\n",
    "        print('{}|- X{} {} {}'.format(depth * '   ', node['index'] + 1, condition['yes'], node['value']))\n",
    "        if 'right' in node:\n",
    "            visualize_tree(node['right'], depth + 1)\n",
    "    else:\n",
    "        print('{}[{}]'.format(depth * '   ', node))"
   ]
  },
  {
   "cell_type": "code",
   "execution_count": 27,
   "metadata": {},
   "outputs": [
    {
     "name": "stdout",
     "output_type": "stream",
     "text": [
      "|- X1 is not fashion\n",
      "   |- X2 is not professional\n",
      "      [0]\n",
      "   |- X2 is professional\n",
      "      [1]\n",
      "|- X1 is fashion\n",
      "   [0]\n"
     ]
    }
   ],
   "source": [
    "visualize_tree(tree)"
   ]
  },
  {
   "cell_type": "code",
   "execution_count": 28,
   "metadata": {},
   "outputs": [
    {
     "name": "stdout",
     "output_type": "stream",
     "text": [
      "|- X2 < 4\n",
      "   |- X1 < 7\n",
      "      [1]\n",
      "   |- X1 >= 7\n",
      "      [0]\n",
      "|- X2 >= 4\n",
      "   |- X1 < 2\n",
      "      [1]\n",
      "   |- X1 >= 2\n",
      "      [0]\n"
     ]
    }
   ],
   "source": [
    "X_train_n = [[6, 7], [2, 4], [7, 2], [3, 6], [4, 7], [5, 2], [1, 6], [2, 0], [6, 3], [4, 1]]\n",
    "y_train_n = [0, 0, 0, 0, 0, 1, 1, 1, 1, 1]\n",
    "tree = train_tree(X_train_n, y_train_n, 2, 2)\n",
    "visualize_tree(tree)"
   ]
  },
  {
   "cell_type": "code",
   "execution_count": 30,
   "metadata": {},
   "outputs": [
    {
     "data": {
      "text/plain": [
       "DecisionTreeClassifier(max_depth=2)"
      ]
     },
     "execution_count": 30,
     "metadata": {},
     "output_type": "execute_result"
    }
   ],
   "source": [
    "from sklearn.tree import DecisionTreeClassifier\n",
    "tree_sk = DecisionTreeClassifier(criterion='gini', max_depth=2, min_samples_split=2)\n",
    "tree_sk.fit(X_train_n, y_train_n)"
   ]
  },
  {
   "cell_type": "code",
   "execution_count": 32,
   "metadata": {},
   "outputs": [],
   "source": [
    "import pandas as pd\n",
    "n_rows = 300000\n",
    "df = pd.read_csv('train.csv', nrows=n_rows)"
   ]
  },
  {
   "cell_type": "code",
   "execution_count": 33,
   "metadata": {},
   "outputs": [
    {
     "name": "stdout",
     "output_type": "stream",
     "text": [
      "             id  click      hour    C1  banner_pos   site_id site_domain  \\\n",
      "0  1.000009e+18      0  14102100  1005           0  1fbe01fe    f3845767   \n",
      "1  1.000017e+19      0  14102100  1005           0  1fbe01fe    f3845767   \n",
      "2  1.000037e+19      0  14102100  1005           0  1fbe01fe    f3845767   \n",
      "3  1.000064e+19      0  14102100  1005           0  1fbe01fe    f3845767   \n",
      "4  1.000068e+19      0  14102100  1005           1  fe8cc448    9166c161   \n",
      "\n",
      "  site_category    app_id app_domain  ... device_type device_conn_type    C14  \\\n",
      "0      28905ebd  ecad2386   7801e8d9  ...           1                2  15706   \n",
      "1      28905ebd  ecad2386   7801e8d9  ...           1                0  15704   \n",
      "2      28905ebd  ecad2386   7801e8d9  ...           1                0  15704   \n",
      "3      28905ebd  ecad2386   7801e8d9  ...           1                0  15706   \n",
      "4      0569f928  ecad2386   7801e8d9  ...           1                0  18993   \n",
      "\n",
      "   C15  C16   C17  C18  C19     C20  C21  \n",
      "0  320   50  1722    0   35      -1   79  \n",
      "1  320   50  1722    0   35  100084   79  \n",
      "2  320   50  1722    0   35  100084   79  \n",
      "3  320   50  1722    0   35  100084   79  \n",
      "4  320   50  2161    0   35      -1  157  \n",
      "\n",
      "[5 rows x 24 columns]\n"
     ]
    }
   ],
   "source": [
    "print(df.head(5))"
   ]
  },
  {
   "cell_type": "code",
   "execution_count": 34,
   "metadata": {},
   "outputs": [],
   "source": [
    "Y = df['click'].values"
   ]
  },
  {
   "cell_type": "code",
   "execution_count": 35,
   "metadata": {},
   "outputs": [
    {
     "name": "stdout",
     "output_type": "stream",
     "text": [
      "(300000, 19)\n"
     ]
    }
   ],
   "source": [
    "X = df.drop(['click', 'id', 'hour', 'device_id', 'device_ip'], axis=1).values\n",
    "print(X.shape)"
   ]
  },
  {
   "cell_type": "code",
   "execution_count": 36,
   "metadata": {},
   "outputs": [],
   "source": [
    "n_train = int(n_rows * 0.9)\n",
    "X_train = X[:n_train]\n",
    "Y_train = Y[:n_train]\n",
    "X_test = X[n_train:]\n",
    "Y_test = Y[n_train:]"
   ]
  },
  {
   "cell_type": "code",
   "execution_count": 37,
   "metadata": {},
   "outputs": [],
   "source": [
    "from sklearn.preprocessing import OneHotEncoder\n",
    "enc = OneHotEncoder(handle_unknown='ignore')"
   ]
  },
  {
   "cell_type": "code",
   "execution_count": 38,
   "metadata": {},
   "outputs": [
    {
     "data": {
      "text/plain": [
       "<1x8204 sparse matrix of type '<class 'numpy.float64'>'\n",
       "\twith 19 stored elements in Compressed Sparse Row format>"
      ]
     },
     "execution_count": 38,
     "metadata": {},
     "output_type": "execute_result"
    }
   ],
   "source": [
    "X_train_enc = enc.fit_transform(X_train)\n",
    "X_train_enc[0]"
   ]
  },
  {
   "cell_type": "code",
   "execution_count": 39,
   "metadata": {},
   "outputs": [
    {
     "name": "stdout",
     "output_type": "stream",
     "text": [
      "  (0, 2)\t1.0\n",
      "  (0, 6)\t1.0\n",
      "  (0, 188)\t1.0\n",
      "  (0, 2608)\t1.0\n",
      "  (0, 2679)\t1.0\n",
      "  (0, 3771)\t1.0\n",
      "  (0, 3885)\t1.0\n",
      "  (0, 3929)\t1.0\n",
      "  (0, 4879)\t1.0\n",
      "  (0, 7315)\t1.0\n",
      "  (0, 7319)\t1.0\n",
      "  (0, 7475)\t1.0\n",
      "  (0, 7824)\t1.0\n",
      "  (0, 7828)\t1.0\n",
      "  (0, 7869)\t1.0\n",
      "  (0, 7977)\t1.0\n",
      "  (0, 7982)\t1.0\n",
      "  (0, 8021)\t1.0\n",
      "  (0, 8189)\t1.0\n"
     ]
    }
   ],
   "source": [
    "print(X_train_enc[0])"
   ]
  },
  {
   "cell_type": "code",
   "execution_count": 40,
   "metadata": {},
   "outputs": [],
   "source": [
    "X_test_enc = enc.transform(X_test)"
   ]
  },
  {
   "cell_type": "code",
   "execution_count": 41,
   "metadata": {},
   "outputs": [],
   "source": [
    "parameters = {'max_depth': [3, 10, None]}\n",
    "from sklearn.model_selection import GridSearchCV"
   ]
  },
  {
   "cell_type": "code",
   "execution_count": 42,
   "metadata": {},
   "outputs": [],
   "source": [
    "decision_tree = DecisionTreeClassifier(criterion='gini', min_samples_split=30)"
   ]
  },
  {
   "cell_type": "code",
   "execution_count": 43,
   "metadata": {},
   "outputs": [],
   "source": [
    "grid_search = GridSearchCV(decision_tree, parameters, n_jobs=-1, cv=3, scoring='roc_auc')"
   ]
  },
  {
   "cell_type": "code",
   "execution_count": 50,
   "metadata": {},
   "outputs": [
    {
     "data": {
      "text/plain": [
       "GridSearchCV(cv=3, estimator=DecisionTreeClassifier(min_samples_split=30),\n",
       "             n_jobs=-1, param_grid={'max_depth': [3, 10, None]},\n",
       "             scoring='roc_auc')"
      ]
     },
     "execution_count": 50,
     "metadata": {},
     "output_type": "execute_result"
    }
   ],
   "source": [
    "grid_search.fit(X_train_enc, Y_train)"
   ]
  },
  {
   "cell_type": "code",
   "execution_count": 51,
   "metadata": {},
   "outputs": [
    {
     "name": "stdout",
     "output_type": "stream",
     "text": [
      "{'max_depth': 10}\n"
     ]
    }
   ],
   "source": [
    "print(grid_search.best_params_)"
   ]
  },
  {
   "cell_type": "code",
   "execution_count": 54,
   "metadata": {},
   "outputs": [
    {
     "name": "stdout",
     "output_type": "stream",
     "text": [
      "The ROC AUC on testing set is: 0.719\n"
     ]
    }
   ],
   "source": [
    "decision_tree_best = grid_search.best_estimator_\n",
    "pos_prob = decision_tree_best.predict_proba(X_test_enc)[:, 1]\n",
    "from sklearn.metrics import roc_auc_score\n",
    "print('The ROC AUC on testing set is: {0:.3f}'.format(roc_auc_score(Y_test, pos_prob)))"
   ]
  },
  {
   "cell_type": "code",
   "execution_count": 55,
   "metadata": {},
   "outputs": [
    {
     "data": {
      "text/plain": [
       "0.5007831397812763"
      ]
     },
     "execution_count": 55,
     "metadata": {},
     "output_type": "execute_result"
    }
   ],
   "source": [
    "pos_prob = np.zeros(len(Y_test))\n",
    "click_index = np.random.choice(len(Y_test), int(len(Y_test) * 51211.0/300000), replace=False)\n",
    "pos_prob[click_index] = 1\n",
    "roc_auc_score(Y_test, pos_prob)"
   ]
  },
  {
   "cell_type": "code",
   "execution_count": 56,
   "metadata": {},
   "outputs": [],
   "source": [
    "from sklearn.ensemble import RandomForestClassifier\n",
    "random_forest = RandomForestClassifier(n_estimators=100, criterion='gini', min_samples_split=30, n_jobs=-1)"
   ]
  },
  {
   "cell_type": "code",
   "execution_count": 58,
   "metadata": {},
   "outputs": [
    {
     "data": {
      "text/plain": [
       "GridSearchCV(cv=3,\n",
       "             estimator=RandomForestClassifier(min_samples_split=30, n_jobs=-1),\n",
       "             n_jobs=-1, param_grid={'max_depth': [3, 10, None]},\n",
       "             scoring='roc_auc')"
      ]
     },
     "execution_count": 58,
     "metadata": {},
     "output_type": "execute_result"
    }
   ],
   "source": [
    "grid_search = GridSearchCV(random_forest, parameters, n_jobs=-1, cv=3, scoring='roc_auc')\n",
    "grid_search.fit(X_train_enc, Y_train)"
   ]
  },
  {
   "cell_type": "code",
   "execution_count": 59,
   "metadata": {},
   "outputs": [
    {
     "name": "stdout",
     "output_type": "stream",
     "text": [
      "{'max_depth': None}\n"
     ]
    }
   ],
   "source": [
    "print(grid_search.best_params_)"
   ]
  },
  {
   "cell_type": "code",
   "execution_count": 60,
   "metadata": {},
   "outputs": [],
   "source": [
    "random_forest_best = grid_search.best_estimator_"
   ]
  },
  {
   "cell_type": "code",
   "execution_count": 61,
   "metadata": {},
   "outputs": [
    {
     "name": "stdout",
     "output_type": "stream",
     "text": [
      "the ROC AUC on testing set is: 0.759\n"
     ]
    }
   ],
   "source": [
    "pos_prob = random_forest_best.predict_proba(X_test_enc)[:, 1]\n",
    "print('the ROC AUC on testing set is: {0:.3f}'.format(roc_auc_score(Y_test, pos_prob)))"
   ]
  },
  {
   "cell_type": "code",
   "execution_count": null,
   "metadata": {},
   "outputs": [],
   "source": []
  }
 ],
 "metadata": {
  "kernelspec": {
   "display_name": "Python 3",
   "language": "python",
   "name": "python3"
  },
  "language_info": {
   "codemirror_mode": {
    "name": "ipython",
    "version": 3
   },
   "file_extension": ".py",
   "mimetype": "text/x-python",
   "name": "python",
   "nbconvert_exporter": "python",
   "pygments_lexer": "ipython3",
   "version": "3.8.3"
  }
 },
 "nbformat": 4,
 "nbformat_minor": 4
}
