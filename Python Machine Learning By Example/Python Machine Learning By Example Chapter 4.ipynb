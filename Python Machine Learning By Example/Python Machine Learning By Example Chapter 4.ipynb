{
 "cells": [
  {
   "cell_type": "code",
   "execution_count": 1,
   "metadata": {},
   "outputs": [
    {
     "name": "stdout",
     "output_type": "stream",
     "text": [
      "Subject: mcmullen gas for 11 / 99\n",
      "jackie ,\n",
      "since the inlet to 3 river plant is shut in on 10 / 19 / 99 ( the last day of\n",
      "flow ) :\n",
      "at what meter is the mcmullen gas being diverted to ?\n",
      "at what meter is hpl buying the residue gas ? ( this is the gas from teco ,\n",
      "vastar , vintage , tejones , and swift )\n",
      "i still see active deals at meter 3405 in path manager for teco , vastar ,\n",
      "vintage , tejones , and swift\n",
      "i also see gas scheduled in pops at meter 3404 and 3405 .\n",
      "please advice . we need to resolve this as soon as possible so settlement\n",
      "can send out payments .\n",
      "thanks\n"
     ]
    }
   ],
   "source": [
    "file_path = 'enron1/ham/0007.1999-12-14.farmer.ham.txt'\n",
    "with open(file_path, 'r') as infile:\n",
    "    ham_sample = infile.read()\n",
    "print(ham_sample)"
   ]
  },
  {
   "cell_type": "code",
   "execution_count": 2,
   "metadata": {},
   "outputs": [
    {
     "name": "stdout",
     "output_type": "stream",
     "text": [
      "Subject: stacey automated system generating 8 k per week parallelogram\n",
      "people are\n",
      "getting rich using this system ! now it ' s your\n",
      "turn !\n",
      "we ' ve\n",
      "cracked the code and will show you . . . .\n",
      "this is the\n",
      "only system that does everything for you , so you can make\n",
      "money\n",
      ". . . . . . . .\n",
      "because your\n",
      "success is . . . completely automated !\n",
      "let me show\n",
      "you how !\n",
      "click\n",
      "here\n",
      "to opt out click here % random _ text\n",
      "\n"
     ]
    }
   ],
   "source": [
    "file_path = 'enron1/spam/0058.2003-12-21.GP.spam.txt'\n",
    "with open(file_path, 'r') as infile:\n",
    "    spam_sample = infile.read()\n",
    "print(spam_sample)"
   ]
  },
  {
   "cell_type": "code",
   "execution_count": 3,
   "metadata": {},
   "outputs": [],
   "source": [
    "import glob, os\n",
    "emails, labels = [], []"
   ]
  },
  {
   "cell_type": "code",
   "execution_count": 4,
   "metadata": {},
   "outputs": [
    {
     "name": "stdout",
     "output_type": "stream",
     "text": [
      "5172\n",
      "5172\n"
     ]
    }
   ],
   "source": [
    "file_path = 'enron1/spam/'\n",
    "for filename in glob.glob(os.path.join(file_path, '*.txt')):\n",
    "    with open(filename, 'r', encoding='ISO-8859-1') as infile:\n",
    "        emails.append(infile.read())\n",
    "        labels.append(1)\n",
    "\n",
    "file_path = 'enron1/ham/'\n",
    "for filename in glob.glob(os.path.join(file_path, '*.txt')):\n",
    "    with open(filename, 'r', encoding='ISO-8859-1') as infile:\n",
    "        emails.append(infile.read())\n",
    "        labels.append(0)\n",
    "\n",
    "print(len(emails))\n",
    "print(len(labels))"
   ]
  },
  {
   "cell_type": "code",
   "execution_count": 5,
   "metadata": {},
   "outputs": [],
   "source": [
    "from nltk.corpus import names\n",
    "from nltk.stem import WordNetLemmatizer\n",
    "def is_letter_only(word):\n",
    "    return word.isalpha()\n",
    "all_names = set(names.words())\n",
    "lemmatizer = WordNetLemmatizer()"
   ]
  },
  {
   "cell_type": "code",
   "execution_count": 6,
   "metadata": {},
   "outputs": [],
   "source": [
    "def clean_text(docs):\n",
    "    docs_cleaned = []\n",
    "    for doc in docs:\n",
    "        doc = doc.lower()\n",
    "        doc_cleaned = ' '.join(lemmatizer.lemmatize(word) for word in doc.split() if is_letter_only(word) and word not in all_names)\n",
    "        docs_cleaned.append(doc_cleaned)\n",
    "    return docs_cleaned\n",
    "\n",
    "emails_cleaned = clean_text(emails)"
   ]
  },
  {
   "cell_type": "code",
   "execution_count": 7,
   "metadata": {},
   "outputs": [],
   "source": [
    "from sklearn.feature_extraction.text import CountVectorizer\n",
    "cv = CountVectorizer(stop_words='english', max_features=1000, max_df=0.5, min_df=2)\n",
    "docs_cv = cv.fit_transform(emails_cleaned)"
   ]
  },
  {
   "cell_type": "code",
   "execution_count": 8,
   "metadata": {},
   "outputs": [
    {
     "name": "stdout",
     "output_type": "stream",
     "text": [
      "  (0, 265)\t2\n",
      "  (0, 481)\t2\n",
      "  (0, 362)\t2\n",
      "  (0, 229)\t1\n",
      "  (0, 360)\t2\n",
      "  (0, 103)\t1\n",
      "  (0, 997)\t1\n",
      "  (0, 86)\t2\n",
      "  (0, 72)\t1\n",
      "  (0, 475)\t1\n",
      "  (0, 898)\t1\n",
      "  (0, 690)\t1\n",
      "  (0, 505)\t1\n",
      "  (0, 865)\t1\n",
      "  (0, 584)\t1\n",
      "  (0, 151)\t1\n",
      "  (0, 714)\t1\n",
      "  (0, 969)\t1\n",
      "  (0, 933)\t1\n"
     ]
    }
   ],
   "source": [
    "print(docs_cv[0])"
   ]
  },
  {
   "cell_type": "code",
   "execution_count": 10,
   "metadata": {},
   "outputs": [
    {
     "name": "stdout",
     "output_type": "stream",
     "text": [
      "energy\n",
      "unsubscribe\n"
     ]
    }
   ],
   "source": [
    "terms = cv.get_feature_names()\n",
    "print(terms[265])\n",
    "print(terms[933])"
   ]
  },
  {
   "cell_type": "code",
   "execution_count": 21,
   "metadata": {
    "scrolled": true
   },
   "outputs": [],
   "source": [
    "from collections import defaultdict\n",
    "\n",
    "def get_label_index(labels):\n",
    "    label_index = defaultdict(list)\n",
    "    for index, label in enumerate(labels):\n",
    "        label_index[label].append(index)\n",
    "    return label_index\n",
    "\n",
    "label_index = get_label_index(labels)"
   ]
  },
  {
   "cell_type": "code",
   "execution_count": 19,
   "metadata": {},
   "outputs": [
    {
     "name": "stdout",
     "output_type": "stream",
     "text": [
      "Prior: {1: 0.2900232018561485, 0: 0.7099767981438515}\n"
     ]
    }
   ],
   "source": [
    "def get_prior(label_index):\n",
    "    prior = {label: len(index) for label, index in label_index.items()}\n",
    "    total_count = sum(prior.values())\n",
    "    for label in prior:\n",
    "        prior[label] /= float(total_count)\n",
    "    return prior\n",
    "\n",
    "prior = get_prior(label_index)\n",
    "print('Prior:', prior)"
   ]
  },
  {
   "cell_type": "code",
   "execution_count": 26,
   "metadata": {},
   "outputs": [],
   "source": [
    "import numpy as np\n",
    "def get_likelihood(term_matrix, label_index, smoothing=0):\n",
    "    likelihood = {}\n",
    "    for label, index in label_index.items():\n",
    "        likelihood[label] = term_matrix[index, :].sum(axis=0) + smoothing\n",
    "        likelihood[label] = np.asarray(likelihood[label])[0]\n",
    "        total_count = likelihood[label].sum()\n",
    "        likelihood[label] = likelihood[label] / float(total_count)\n",
    "    return likelihood\n",
    "\n",
    "smoothing = 1\n",
    "likelihood = get_likelihood(docs_cv, label_index, smoothing)"
   ]
  },
  {
   "cell_type": "code",
   "execution_count": 34,
   "metadata": {},
   "outputs": [],
   "source": [
    "def get_posterior(term_matrix, prior, likelihood):\n",
    "    num_docs = term_matrix.shape[0]\n",
    "    posteriors = []\n",
    "    \n",
    "    for i in range(num_docs):\n",
    "        posterior = {key: np.log(prior_label) for key, prior_label in prior.items()}\n",
    "        for label, likelihood_label in likelihood.items():\n",
    "            term_document_vector = term_matrix.getrow(i)\n",
    "            counts = term_document_vector.data\n",
    "            indices = term_document_vector.indices\n",
    "            for count, index in zip(counts, indices):\n",
    "                posterior[label] += np.log(likelihood_label[index]) * count\n",
    "        \n",
    "        min_log_posterior = min(posterior.values())\n",
    "        for label in posterior:\n",
    "            try:\n",
    "                posterior[label] = np.exp(posterior[label] - min_log_posterior)\n",
    "            except:\n",
    "                posterior[label] = float('inf')\n",
    "        sum_posterior = sum(posterior.values())\n",
    "        for label in posterior:\n",
    "            if posterior[label] == float('inf'):\n",
    "                posterior[label] = 1.0\n",
    "            else:\n",
    "                posterior[label] /= sum_posterior\n",
    "        posteriors.append(posterior.copy())\n",
    "    \n",
    "    return posteriors"
   ]
  },
  {
   "cell_type": "code",
   "execution_count": 31,
   "metadata": {},
   "outputs": [],
   "source": [
    "emails_test = [\n",
    "'''Subject: flat screens\n",
    "   hello ,\n",
    "   please call or contact regarding the other flat screens\n",
    "   requested .\n",
    "   trisha tlapek - eb 3132 b\n",
    "   michael sergeev - eb 3132 a\n",
    "   also the sun blocker that was taken away from eb 3131 a .\n",
    "   trisha should two monitors also michael .\n",
    "   thanks\n",
    "   kevin moore''',\n",
    "'''Subject: let ' s stop the mlm insanity !\n",
    "   still believe you can earn $ 100 , 000 fast in mlm ? get real !\n",
    "   get emm , a brand new system that replaces mlm with something that works !\n",
    "   start earning 1 , 000 ' s now ! up to $ 10 , 000 per week doing simple\n",
    "   online tasks .\n",
    "   free info - breakfree @ luxmail . com - type \" send emm info \" in the\n",
    "   subject box .\n",
    "   this message is sent in compliance of the proposed bill section 301 per\n",
    "   section 301 , paragraph ( a ) ( 2 ) ( c ) of s . 1618 . further transmission\n",
    "   to you by the sender of this e - mail may be stopped at no cost to you by\n",
    "   sending a reply to : \" email address \" with the word remove in the subject\n",
    "   line .''',\n",
    "]"
   ]
  },
  {
   "cell_type": "code",
   "execution_count": 35,
   "metadata": {},
   "outputs": [
    {
     "name": "stdout",
     "output_type": "stream",
     "text": [
      "[{1: 5.8180231479630904e-08, 0: 0.9999999418197685}, {1: 0.9999999999999944, 0: 5.503101685049805e-15}]\n"
     ]
    }
   ],
   "source": [
    "emails_cleaned_test = clean_text(emails_test)\n",
    "term_docs_test = cv.transform(emails_cleaned_test)\n",
    "posterior = get_posterior(term_docs_test, prior, likelihood)\n",
    "print(posterior)"
   ]
  },
  {
   "cell_type": "code",
   "execution_count": 36,
   "metadata": {},
   "outputs": [
    {
     "name": "stdout",
     "output_type": "stream",
     "text": [
      "3465 1707 3465 1707\n"
     ]
    }
   ],
   "source": [
    "from sklearn.model_selection import train_test_split\n",
    "X_train, X_test, Y_train, Y_test = train_test_split(emails_cleaned, labels, test_size=0.33, random_state=42)\n",
    "print(len(X_train), len(X_test), len(Y_train), len(Y_test))"
   ]
  },
  {
   "cell_type": "code",
   "execution_count": 38,
   "metadata": {},
   "outputs": [],
   "source": [
    "term_docs_train = cv.fit_transform(X_train)\n",
    "label_index = get_label_index(Y_train)\n",
    "prior = get_prior(label_index)\n",
    "likelihood = get_likelihood(term_docs_train, label_index, smoothing)"
   ]
  },
  {
   "cell_type": "code",
   "execution_count": 39,
   "metadata": {},
   "outputs": [
    {
     "name": "stdout",
     "output_type": "stream",
     "text": [
      "The accuracy on 1707 testing samples is: 93.0%\n"
     ]
    },
    {
     "name": "stderr",
     "output_type": "stream",
     "text": [
      "<ipython-input-34-368601982a41>:17: RuntimeWarning: overflow encountered in exp\n",
      "  posterior[label] = np.exp(posterior[label] - min_log_posterior)\n"
     ]
    }
   ],
   "source": [
    "term_docs_test = cv.transform(X_test)\n",
    "posterior = get_posterior(term_docs_test, prior, likelihood)\n",
    "\n",
    "correct = 0.0\n",
    "for pred, actual in zip(posterior, Y_test):\n",
    "    if actual == 1:\n",
    "        if pred[1] >= 0.5:\n",
    "            correct += 1\n",
    "    elif pred[0] > 0.5:\n",
    "        correct += 1\n",
    "\n",
    "print('The accuracy on {0} testing samples is: {1:.1f}%'.format(len(Y_test), correct/len(Y_test)*100))"
   ]
  },
  {
   "cell_type": "code",
   "execution_count": 40,
   "metadata": {},
   "outputs": [
    {
     "data": {
      "text/plain": [
       "MultinomialNB()"
      ]
     },
     "execution_count": 40,
     "metadata": {},
     "output_type": "execute_result"
    }
   ],
   "source": [
    "from sklearn.naive_bayes import MultinomialNB\n",
    "clf = MultinomialNB(alpha=1.0, fit_prior=True)\n",
    "clf.fit(term_docs_train, Y_train)"
   ]
  },
  {
   "cell_type": "code",
   "execution_count": 41,
   "metadata": {},
   "outputs": [
    {
     "data": {
      "text/plain": [
       "array([[1.00000000e+00, 3.91943989e-13],\n",
       "       [1.00000000e+00, 2.05893475e-81],\n",
       "       [6.60292798e-01, 3.39707202e-01],\n",
       "       [1.00000000e+00, 2.23176161e-15],\n",
       "       [1.00000000e+00, 1.75796898e-15],\n",
       "       [5.56682112e-05, 9.99944332e-01],\n",
       "       [0.00000000e+00, 1.00000000e+00],\n",
       "       [1.00000000e+00, 3.25766215e-28],\n",
       "       [1.00000000e+00, 4.39755396e-14],\n",
       "       [3.39436431e-01, 6.60563569e-01]])"
      ]
     },
     "execution_count": 41,
     "metadata": {},
     "output_type": "execute_result"
    }
   ],
   "source": [
    "prediction_prob = clf.predict_proba(term_docs_test)\n",
    "prediction_prob[0:10]"
   ]
  },
  {
   "cell_type": "code",
   "execution_count": 42,
   "metadata": {},
   "outputs": [
    {
     "data": {
      "text/plain": [
       "array([0, 0, 0, 0, 0, 1, 1, 0, 0, 1])"
      ]
     },
     "execution_count": 42,
     "metadata": {},
     "output_type": "execute_result"
    }
   ],
   "source": [
    "prediction = clf.predict(term_docs_test)\n",
    "prediction[0:10]"
   ]
  },
  {
   "cell_type": "code",
   "execution_count": 43,
   "metadata": {},
   "outputs": [
    {
     "name": "stdout",
     "output_type": "stream",
     "text": [
      "The accuracy using MultinomialNB is: 93.0%\n"
     ]
    }
   ],
   "source": [
    "accuracy = clf.score(term_docs_test, Y_test)\n",
    "print('The accuracy using MultinomialNB is: {0:.1f}%'.format(accuracy*100))"
   ]
  },
  {
   "cell_type": "code",
   "execution_count": 45,
   "metadata": {},
   "outputs": [
    {
     "data": {
      "text/plain": [
       "array([[1102,   89],\n",
       "       [  31,  485]], dtype=int64)"
      ]
     },
     "execution_count": 45,
     "metadata": {},
     "output_type": "execute_result"
    }
   ],
   "source": [
    "from sklearn.metrics import confusion_matrix\n",
    "confusion_matrix(Y_test, prediction, labels=[0, 1])"
   ]
  },
  {
   "cell_type": "code",
   "execution_count": 46,
   "metadata": {},
   "outputs": [
    {
     "name": "stdout",
     "output_type": "stream",
     "text": [
      "0.8449477351916377\n",
      "0.939922480620155\n",
      "0.889908256880734\n"
     ]
    }
   ],
   "source": [
    "from sklearn.metrics import precision_score, recall_score, f1_score\n",
    "print(precision_score(Y_test, prediction, pos_label=1))\n",
    "print(recall_score(Y_test, prediction, pos_label=1))\n",
    "print(f1_score(Y_test, prediction, pos_label=1))"
   ]
  },
  {
   "cell_type": "code",
   "execution_count": 47,
   "metadata": {},
   "outputs": [
    {
     "data": {
      "text/plain": [
       "0.9483648881239244"
      ]
     },
     "execution_count": 47,
     "metadata": {},
     "output_type": "execute_result"
    }
   ],
   "source": [
    "f1_score(Y_test, prediction, pos_label=0)"
   ]
  },
  {
   "cell_type": "code",
   "execution_count": 48,
   "metadata": {},
   "outputs": [
    {
     "name": "stdout",
     "output_type": "stream",
     "text": [
      "              precision    recall  f1-score   support\n",
      "\n",
      "           0       0.97      0.93      0.95      1191\n",
      "           1       0.84      0.94      0.89       516\n",
      "\n",
      "    accuracy                           0.93      1707\n",
      "   macro avg       0.91      0.93      0.92      1707\n",
      "weighted avg       0.93      0.93      0.93      1707\n",
      "\n"
     ]
    }
   ],
   "source": [
    "from sklearn.metrics import classification_report\n",
    "report = classification_report(Y_test, prediction)\n",
    "print(report)"
   ]
  },
  {
   "cell_type": "code",
   "execution_count": 49,
   "metadata": {},
   "outputs": [],
   "source": [
    "pos_prob = prediction_prob[:, 1]\n",
    "thresholds = np.arange(0.0, 1.2, 0.1)\n",
    "true_pos, false_pos = [0]*len(thresholds), [0]*len(thresholds)\n",
    "for pred, y in zip(pos_prob, Y_test):\n",
    "    for i, threshold in enumerate(thresholds):\n",
    "        if pred >= threshold:\n",
    "            if y == 1:\n",
    "                true_pos[i] += 1\n",
    "            else:\n",
    "                false_pos[i] += 1\n",
    "        else:\n",
    "            break"
   ]
  },
  {
   "cell_type": "code",
   "execution_count": 55,
   "metadata": {},
   "outputs": [],
   "source": [
    "true_pos_rate = [tp / 516.0 for tp in true_pos]\n",
    "false_pos_rate = [fp / 1191.0 for fp in false_pos]"
   ]
  },
  {
   "cell_type": "code",
   "execution_count": 52,
   "metadata": {},
   "outputs": [
    {
     "data": {
      "image/png": "[encoded data removed]",
      "text/plain": [
       "<Figure size 432x288 with 1 Axes>"
      ]
     },
     "metadata": {
      "needs_background": "light"
     },
     "output_type": "display_data"
    }
   ],
   "source": [
    "import matplotlib.pyplot as plt\n",
    "plt.figure()\n",
    "lw = 2\n",
    "plt.plot(false_pos_rate, true_pos_rate, color='darkorange', lw=lw)\n",
    "plt.plot([0, 1], [0, 1], color='navy', lw=lw, linestyle='--')\n",
    "plt.xlim([0.0, 1.0])\n",
    "plt.ylim([0.0, 1.05])\n",
    "plt.xlabel('False positive rate')\n",
    "plt.ylabel('True positive rate')\n",
    "plt.title('ROC')\n",
    "plt.show()"
   ]
  },
  {
   "cell_type": "code",
   "execution_count": 56,
   "metadata": {},
   "outputs": [
    {
     "data": {
      "text/plain": [
       "0.9653872063733817"
      ]
     },
     "execution_count": 56,
     "metadata": {},
     "output_type": "execute_result"
    }
   ],
   "source": [
    "from sklearn.metrics import roc_auc_score\n",
    "roc_auc_score(Y_test, pos_prob)"
   ]
  },
  {
   "cell_type": "code",
   "execution_count": 58,
   "metadata": {},
   "outputs": [],
   "source": [
    "from sklearn.model_selection import StratifiedKFold\n",
    "k = 10\n",
    "k_fold = StratifiedKFold(n_splits=k, random_state=42)\n",
    "cleaned_emails_np = np.array(emails_cleaned)\n",
    "labels_np = np.array(labels)"
   ]
  },
  {
   "cell_type": "code",
   "execution_count": 59,
   "metadata": {},
   "outputs": [],
   "source": [
    "max_features_option = [2000, 8000, None]\n",
    "smoothing_factor_option = [0.5, 1.0, 2.0, 4.0]\n",
    "fit_prior_option = [True, False]\n",
    "auc_record = {}"
   ]
  },
  {
   "cell_type": "code",
   "execution_count": 60,
   "metadata": {},
   "outputs": [],
   "source": [
    "for train_indices, test_indices in k_fold.split(emails_cleaned, labels):\n",
    "    X_train, X_test = cleaned_emails_np[train_indices], cleaned_emails_np[test_indices]\n",
    "    Y_train, Y_test = labels_np[train_indices], labels_np[test_indices]\n",
    "    for max_features in max_features_option:\n",
    "        if max_features not in auc_record:\n",
    "            auc_record[max_features] = {}\n",
    "        cv = CountVectorizer(stop_words='english', max_features=max_features, max_df=0.5, min_df=2)\n",
    "        term_docs_train = cv.fit_transform(X_train)\n",
    "        term_docs_test = cv.transform(X_test)\n",
    "        for alpha in smoothing_factor_option:\n",
    "            if alpha not in auc_record[max_features]:\n",
    "                auc_record[max_features][alpha] = {}\n",
    "            for fit_prior in fit_prior_option:\n",
    "                clf = MultinomialNB(alpha=alpha, fit_prior=fit_prior)\n",
    "                clf.fit(term_docs_train, Y_train)\n",
    "                prediction_prob = clf.predict_proba(term_docs_test)\n",
    "                pos_prob = prediction_prob[:, 1]\n",
    "                auc = roc_auc_score(Y_test, pos_prob)\n",
    "                auc_record[max_features][alpha][fit_prior] = auc + auc_record[max_features][alpha].get(fit_prior, 0.0)"
   ]
  },
  {
   "cell_type": "code",
   "execution_count": 63,
   "metadata": {},
   "outputs": [
    {
     "name": "stdout",
     "output_type": "stream",
     "text": [
      "max_features smoothing fit_prior auc\n",
      " 2000 0.5 True 0.97413\n",
      " 2000 0.5 False 0.97407\n",
      " 2000 1.0 True 0.97237\n",
      " 2000 1.0 False 0.97238\n",
      " 2000 2.0 True 0.97037\n",
      " 2000 2.0 False 0.97050\n",
      " 2000 4.0 True 0.96844\n",
      " 2000 4.0 False 0.96835\n",
      " 8000 0.5 True 0.98521\n",
      " 8000 0.5 False 0.98526\n",
      " 8000 1.0 True 0.98408\n",
      " 8000 1.0 False 0.98417\n",
      " 8000 2.0 True 0.98337\n",
      " 8000 2.0 False 0.98344\n",
      " 8000 4.0 True 0.98291\n",
      " 8000 4.0 False 0.98287\n",
      " None 0.5 True 0.98890\n",
      " None 0.5 False 0.98884\n",
      " None 1.0 True 0.98899\n",
      " None 1.0 False 0.98904\n",
      " None 2.0 True 0.98906\n",
      " None 2.0 False 0.98915\n",
      " None 4.0 True 0.98965\n",
      " None 4.0 False 0.98969\n"
     ]
    }
   ],
   "source": [
    "print('max_features smoothing fit_prior auc')\n",
    "for max_features, max_feature_record in auc_record.items():\n",
    "    for smoothing, smoothing_record in max_feature_record.items():\n",
    "        for fit_prior, auc in smoothing_record.items():\n",
    "            print(' {0} {1} {2} {3:.5f}'.format(max_features, smoothing, fit_prior, auc/k))"
   ]
  },
  {
   "cell_type": "code",
   "execution_count": 64,
   "metadata": {},
   "outputs": [],
   "source": [
    "max_features_option = [None]\n",
    "smoothing_factor_option = [4.0, 10, 16, 20, 32]\n",
    "fit_prior_option = [True, False]"
   ]
  },
  {
   "cell_type": "code",
   "execution_count": 65,
   "metadata": {},
   "outputs": [],
   "source": [
    "for train_indices, test_indices in k_fold.split(emails_cleaned, labels):\n",
    "    X_train, X_test = cleaned_emails_np[train_indices], cleaned_emails_np[test_indices]\n",
    "    Y_train, Y_test = labels_np[train_indices], labels_np[test_indices]\n",
    "    for max_features in max_features_option:\n",
    "        if max_features not in auc_record:\n",
    "            auc_record[max_features] = {}\n",
    "        cv = CountVectorizer(stop_words='english', max_features=max_features, max_df=0.5, min_df=2)\n",
    "        term_docs_train = cv.fit_transform(X_train)\n",
    "        term_docs_test = cv.transform(X_test)\n",
    "        for alpha in smoothing_factor_option:\n",
    "            if alpha not in auc_record[max_features]:\n",
    "                auc_record[max_features][alpha] = {}\n",
    "            for fit_prior in fit_prior_option:\n",
    "                clf = MultinomialNB(alpha=alpha, fit_prior=fit_prior)\n",
    "                clf.fit(term_docs_train, Y_train)\n",
    "                prediction_prob = clf.predict_proba(term_docs_test)\n",
    "                pos_prob = prediction_prob[:, 1]\n",
    "                auc = roc_auc_score(Y_test, pos_prob)\n",
    "                auc_record[max_features][alpha][fit_prior] = auc + auc_record[max_features][alpha].get(fit_prior, 0.0)"
   ]
  },
  {
   "cell_type": "code",
   "execution_count": 66,
   "metadata": {},
   "outputs": [
    {
     "name": "stdout",
     "output_type": "stream",
     "text": [
      "max_features smoothing fit_prior auc\n",
      " 2000 0.5 True 0.97413\n",
      " 2000 0.5 False 0.97407\n",
      " 2000 1.0 True 0.97237\n",
      " 2000 1.0 False 0.97238\n",
      " 2000 2.0 True 0.97037\n",
      " 2000 2.0 False 0.97050\n",
      " 2000 4.0 True 0.96844\n",
      " 2000 4.0 False 0.96835\n",
      " 8000 0.5 True 0.98521\n",
      " 8000 0.5 False 0.98526\n",
      " 8000 1.0 True 0.98408\n",
      " 8000 1.0 False 0.98417\n",
      " 8000 2.0 True 0.98337\n",
      " 8000 2.0 False 0.98344\n",
      " 8000 4.0 True 0.98291\n",
      " 8000 4.0 False 0.98287\n",
      " None 0.5 True 0.98890\n",
      " None 0.5 False 0.98884\n",
      " None 1.0 True 0.98899\n",
      " None 1.0 False 0.98904\n",
      " None 2.0 True 0.98906\n",
      " None 2.0 False 0.98915\n",
      " None 4.0 True 1.97930\n",
      " None 4.0 False 1.97939\n",
      " None 10 True 0.99208\n",
      " None 10 False 0.99211\n",
      " None 16 True 0.99329\n",
      " None 16 False 0.99329\n",
      " None 20 True 0.99362\n",
      " None 20 False 0.99362\n",
      " None 32 True 0.99307\n",
      " None 32 False 0.99307\n"
     ]
    }
   ],
   "source": [
    "print('max_features smoothing fit_prior auc')\n",
    "for max_features, max_feature_record in auc_record.items():\n",
    "    for smoothing, smoothing_record in max_feature_record.items():\n",
    "        for fit_prior, auc in smoothing_record.items():\n",
    "            print(' {0} {1} {2} {3:.5f}'.format(max_features, smoothing, fit_prior, auc/k))"
   ]
  },
  {
   "cell_type": "code",
   "execution_count": 2,
   "metadata": {},
   "outputs": [
    {
     "name": "stdout",
     "output_type": "stream",
     "text": [
      "2000\n",
      "2000\n"
     ]
    }
   ],
   "source": [
    "import os, glob\n",
    "\n",
    "reviews = []\n",
    "labels = []\n",
    "\n",
    "file_path = 'txt_sentoken/pos/'\n",
    "for filename in glob.glob(os.path.join(file_path, '*.txt')):\n",
    "    with open(filename, 'r', encoding='ISO-8859-1') as infile:\n",
    "        reviews.append(infile.read())\n",
    "        labels.append(1)\n",
    "\n",
    "file_path = 'txt_sentoken/neg/'\n",
    "for filename in glob.glob(os.path.join(file_path, '*.txt')):\n",
    "    with open(filename, 'r', encoding='ISO-8859-1') as infile:\n",
    "        reviews.append(infile.read())\n",
    "        labels.append(0)\n",
    "\n",
    "print(len(reviews))\n",
    "print(len(labels))"
   ]
  },
  {
   "cell_type": "code",
   "execution_count": 9,
   "metadata": {},
   "outputs": [],
   "source": [
    "from nltk.corpus import names\n",
    "from nltk.stem import WordNetLemmatizer\n",
    "import numpy as np\n",
    "def is_letter_only(word):\n",
    "    return word.isalpha()\n",
    "all_names = set(names.words())\n",
    "lemmatizer = WordNetLemmatizer()\n",
    "\n",
    "def clean_text(docs):\n",
    "    docs_cleaned = []\n",
    "    for doc in docs:\n",
    "        doc = doc.lower()\n",
    "        doc_cleaned = ' '.join(lemmatizer.lemmatize(word) for word in doc.split() if is_letter_only(word) and word not in all_names)\n",
    "        docs_cleaned.append(doc_cleaned)\n",
    "    return docs_cleaned\n",
    "\n",
    "reviews_cleaned = clean_text(reviews)\n",
    "cleaned_reviews_np = np.array(reviews_cleaned)\n",
    "labels_np = np.array(labels)"
   ]
  },
  {
   "cell_type": "code",
   "execution_count": 8,
   "metadata": {},
   "outputs": [],
   "source": [
    "max_features_option = [2000, 8000, None]\n",
    "smoothing_factor_option = [0.5, 1.0, 2.0, 4.0]\n",
    "fit_prior_option = [True, False]\n",
    "auc_record = {}"
   ]
  },
  {
   "cell_type": "code",
   "execution_count": 12,
   "metadata": {},
   "outputs": [],
   "source": [
    "from sklearn.model_selection import StratifiedKFold\n",
    "k = 10\n",
    "k_fold = StratifiedKFold(n_splits=k)"
   ]
  },
  {
   "cell_type": "code",
   "execution_count": 16,
   "metadata": {},
   "outputs": [],
   "source": [
    "from sklearn.feature_extraction.text import CountVectorizer\n",
    "from sklearn.naive_bayes import MultinomialNB\n",
    "from sklearn.metrics import roc_auc_score\n",
    "\n",
    "for train_indices, test_indices in k_fold.split(reviews_cleaned, labels):\n",
    "    X_train, X_test = cleaned_reviews_np[train_indices], cleaned_reviews_np[test_indices]\n",
    "    Y_train, Y_test = labels_np[train_indices], labels_np[test_indices]\n",
    "    for max_features in max_features_option:\n",
    "        if max_features not in auc_record:\n",
    "            auc_record[max_features] = {}\n",
    "        cv = CountVectorizer(stop_words='english', max_features=max_features, max_df=0.5, min_df=2)\n",
    "        term_docs_train = cv.fit_transform(X_train)\n",
    "        term_docs_test = cv.transform(X_test)\n",
    "        for alpha in smoothing_factor_option:\n",
    "            if alpha not in auc_record[max_features]:\n",
    "                auc_record[max_features][alpha] = {}\n",
    "            for fit_prior in fit_prior_option:\n",
    "                clf = MultinomialNB(alpha=alpha, fit_prior=fit_prior)\n",
    "                clf.fit(term_docs_train, Y_train)\n",
    "                prediction_prob = clf.predict_proba(term_docs_test)\n",
    "                pos_prob = prediction_prob[:, 1]\n",
    "                auc = roc_auc_score(Y_test, pos_prob)\n",
    "                auc_record[max_features][alpha][fit_prior] = auc + auc_record[max_features][alpha].get(fit_prior, 0.0)"
   ]
  },
  {
   "cell_type": "code",
   "execution_count": 19,
   "metadata": {},
   "outputs": [
    {
     "name": "stdout",
     "output_type": "stream",
     "text": [
      "max_features smoothing fit_prior   auc\n",
      "      2000      0.5    True      0.88769\n",
      "      2000      0.5    False      0.88769\n",
      "      2000      1.0    True      0.88770\n",
      "      2000      1.0    False      0.88770\n",
      "      2000      2.0    True      0.88763\n",
      "      2000      2.0    False      0.88763\n",
      "      2000      4.0    True      0.88776\n",
      "      2000      4.0    False      0.88776\n",
      "      8000      0.5    True      0.88606\n",
      "      8000      0.5    False      0.88606\n",
      "      8000      1.0    True      0.88838\n",
      "      8000      1.0    False      0.88838\n",
      "      8000      2.0    True      0.89067\n",
      "      8000      2.0    False      0.89067\n",
      "      8000      4.0    True      0.89323\n",
      "      8000      4.0    False      0.89323\n",
      "      None      0.5    True      0.87950\n",
      "      None      0.5    False      0.87950\n",
      "      None      1.0    True      0.88333\n",
      "      None      1.0    False      0.88333\n",
      "      None      2.0    True      0.88851\n",
      "      None      2.0    False      0.88851\n",
      "      None      4.0    True      0.89306\n",
      "      None      4.0    False      0.89306\n"
     ]
    }
   ],
   "source": [
    "print('max_features smoothing fit_prior   auc')\n",
    "for max_features, max_feature_record in auc_record.items():\n",
    "    for smoothing, smoothing_record in max_feature_record.items():\n",
    "        for fit_prior, auc in smoothing_record.items():\n",
    "            print('      {0}      {1}    {2}      {3:.5f}'.format(max_features, smoothing, fit_prior, auc/k))"
   ]
  },
  {
   "cell_type": "code",
   "execution_count": null,
   "metadata": {},
   "outputs": [],
   "source": []
  }
 ],
 "metadata": {
  "kernelspec": {
   "display_name": "Python 3",
   "language": "python",
   "name": "python3"
  },
  "language_info": {
   "codemirror_mode": {
    "name": "ipython",
    "version": 3
   },
   "file_extension": ".py",
   "mimetype": "text/x-python",
   "name": "python",
   "nbconvert_exporter": "python",
   "pygments_lexer": "ipython3",
   "version": "3.8.3"
  }
 },
 "nbformat": 4,
 "nbformat_minor": 4
}
